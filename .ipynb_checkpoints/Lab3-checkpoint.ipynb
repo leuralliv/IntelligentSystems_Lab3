{
 "cells": [
  {
   "cell_type": "raw",
   "id": "2a6a0145-5536-47e1-b161-a2fe949f80fa",
   "metadata": {},
   "source": [
    "If the condition is a list and its first element is \"NOT\",\n",
    "→ It checks if the second element is not in facts.\n",
    "Example: [\"NOT\", \"bird\"] is true if \"bird\" is not in the fact base."
   ]
  },
  {
   "cell_type": "code",
   "execution_count": null,
   "id": "46991cf6-fec6-4661-a8ea-b544ded9f356",
   "metadata": {},
   "outputs": [],
   "source": [
    "def evaluate_condition(self, condition):\n",
    "    if isinstance(condition, list):\n",
    "        if condition[0] == \"NOT\":\n",
    "            return condition[1] not in self.facts"
   ]
  },
  {
   "cell_type": "raw",
   "id": "e2f82d54-faf0-4fb7-9ff6-6a5c4655f2fd",
   "metadata": {},
   "source": [
    "If \"OR\" is inside the list:\n",
    "→ Remove \"OR\" and check if at least one condition is true.\n",
    "Example: [\"mammal\", \"OR\", \"reptile\"] is true if either \"mammal\" or \"reptile\" is in the facts."
   ]
  },
  {
   "cell_type": "code",
   "execution_count": null,
   "id": "5f8ede2e-7d8a-4972-84be-f1e0ae3e149b",
   "metadata": {},
   "outputs": [],
   "source": [
    "        if \"OR\" in condition:\n",
    "            parts = [c for c in condition if c != \"OR\"]\n",
    "            return any(self.evaluate_condition(c) for c in parts)"
   ]
  },
  {
   "cell_type": "raw",
   "id": "dbbc1a9c-e35e-4d7a-9a45-5ae432c5973a",
   "metadata": {},
   "source": [
    "Otherwise, if the list doesn’t have \"NOT\" or \"OR\", it assumes it’s an AND condition.\n",
    "→ All sub-conditions must be true.\n",
    "Example: [\"has_fur\", \"warm_blooded\"] means both must be in the facts."
   ]
  },
  {
   "cell_type": "code",
   "execution_count": null,
   "id": "b4afcbb2-9743-4f37-86fd-782e63ed9059",
   "metadata": {},
   "outputs": [],
   "source": [
    "        return all(self.evaluate_condition(c) for c in condition)"
   ]
  },
  {
   "cell_type": "raw",
   "id": "c5f427de-17f7-4ff4-b8fc-8b166d50d7d0",
   "metadata": {},
   "source": [
    "If the condition is not a list (just a single string),\n",
    "→ Check directly if it exists in facts."
   ]
  },
  {
   "cell_type": "code",
   "execution_count": null,
   "id": "49b42ea5-dd60-44a1-a47a-a1e7d96e8268",
   "metadata": {},
   "outputs": [],
   "source": [
    "    return condition in self.facts\n"
   ]
  },
  {
   "cell_type": "markdown",
   "id": "dbdc42d4-cf67-4ae7-bd78-bbba45c1a698",
   "metadata": {},
   "source": [
    "✅ So evaluate_condition can handle:\n",
    "\n",
    "Simple conditions (\"mammal\")\n",
    "\n",
    "AND conditions ([\"has_fur\", \"warm_blooded\"])\n",
    "\n",
    "OR conditions ([\"mammal\", \"OR\", \"reptile\"])\n",
    "\n",
    "NOT conditions ([\"NOT\", \"bird\"])"
   ]
  },
  {
   "cell_type": "raw",
   "id": "4810c9f0-f8d7-48e1-8c54-a2f7645aa93e",
   "metadata": {},
   "source": [
    "Loops until no new fact can be inferred.\n",
    "\n",
    "For each rule (ante → cons):\n",
    "\n",
    "It calls evaluate_condition(ante) to check if the antecedent is true.\n",
    "\n",
    "If true and cons isn’t already known → add it as a new fact."
   ]
  },
  {
   "cell_type": "code",
   "execution_count": null,
   "id": "af1fd694-a813-4d06-a69f-56464a9a358c",
   "metadata": {},
   "outputs": [],
   "source": [
    "def forward_chaining(self):\n",
    "    new_fact_found = True\n",
    "    while new_fact_found:\n",
    "        new_fact_found = False\n",
    "        for ante, cons in self.rules:\n",
    "            if self.evaluate_condition(ante) and cons not in self.facts:\n",
    "                self.facts.add(cons)\n",
    "                new_fact_found = True\n",
    "                print(f\"Inferred new fact: {cons}\")\n",
    "Finally, prints all discovered facts."
   ]
  },
  {
   "cell_type": "raw",
   "id": "a90d3a72-48b7-41e7-8cad-8dc716ed85a9",
   "metadata": {},
   "source": [
    "Finally, prints all discovered facts."
   ]
  },
  {
   "cell_type": "code",
   "execution_count": null,
   "id": "0480af4b-78f0-4aa8-bca0-f38d5c7ff605",
   "metadata": {},
   "outputs": [],
   "source": [
    "    print(\"\\nInference complete. Final facts:\")\n",
    "    for fact in sorted(self.facts):\n",
    "        print(f\"- {fact}\")\n"
   ]
  }
 ],
 "metadata": {
  "kernelspec": {
   "display_name": "Python 3 (ipykernel)",
   "language": "python",
   "name": "python3"
  },
  "language_info": {
   "codemirror_mode": {
    "name": "ipython",
    "version": 3
   },
   "file_extension": ".py",
   "mimetype": "text/x-python",
   "name": "python",
   "nbconvert_exporter": "python",
   "pygments_lexer": "ipython3",
   "version": "3.13.7"
  }
 },
 "nbformat": 4,
 "nbformat_minor": 5
}
